{
 "cells": [
  {
   "cell_type": "code",
   "execution_count": 1,
   "id": "5b536cb4-00d5-45b5-8ca6-87316bee0794",
   "metadata": {},
   "outputs": [],
   "source": [
    "from packages import *"
   ]
  },
  {
   "cell_type": "markdown",
   "id": "e154621a-3beb-4d81-a234-7cfc086dd594",
   "metadata": {},
   "source": [
    "## GET WRFOUT FILES"
   ]
  },
  {
   "cell_type": "code",
   "execution_count": 2,
   "id": "ccccf8ee-1920-4175-a6f8-3eb0c3853a46",
   "metadata": {},
   "outputs": [],
   "source": [
    "#### GET the SPIN UP FILES\n",
    "\n",
    "input_path = '/bsuhome/stanleyakor/scratch/thompson/'\n",
    "input_file = 'thompson_spinup_sliced.nc'\n",
    "in_var_name = 'SNOWH'\n",
    "out_var_name = 'SNOWH'\n",
    "operator = 'mean'\n",
    "description = 'Mean accumulated snow height'\n",
    "units = 'm'\n",
    "rain_bucket_vol = 100\n",
    "\n",
    "accumulated_snowh_thompson = hourly_to_daily(input_path, input_file, in_var_name,\\\n",
    "                                             out_var_name, operator, description, units, rain_bucket_vol)\n",
    "\n",
    "\n",
    "#accumulated_snowh_wsm6 = hourly_to_daily(input_path, input_file, in_var_name,\\\n",
    "#                                             out_var_name, operator, description, units, rain_bucket_vol)"
   ]
  },
  {
   "cell_type": "code",
   "execution_count": 3,
   "id": "e6b617b8-8c3e-4ed3-84ec-5c4ad8406783",
   "metadata": {},
   "outputs": [],
   "source": [
    "geog = xr.open_dataset(input_path+input_file)"
   ]
  },
  {
   "cell_type": "code",
   "execution_count": 4,
   "id": "300733b2-a6f6-44ed-8bce-f2de222d103f",
   "metadata": {},
   "outputs": [],
   "source": [
    "\n",
    "lat = geog['XLAT'].isel(Time=0)\n",
    "lon = geog['XLONG'].isel(Time=0)"
   ]
  },
  {
   "cell_type": "code",
   "execution_count": 5,
   "id": "95014e83-118c-4798-b527-d6accfcab857",
   "metadata": {},
   "outputs": [],
   "source": [
    "## MEAN SNOWH ON MARCH 1, Thompson\n",
    "\n",
    "ds_thompson_snowh =accumulated_snowh_thompson['SNOWH'].mean(dim = 'XTIME')"
   ]
  },
  {
   "cell_type": "markdown",
   "id": "e47b3bc8-3ad3-4ff5-ac02-fc079f3a2340",
   "metadata": {},
   "source": [
    "## GET SNODAS SNOWH FILES"
   ]
  },
  {
   "cell_type": "code",
   "execution_count": 6,
   "id": "0bc52db4-c501-4624-8977-e520b9855c46",
   "metadata": {},
   "outputs": [],
   "source": [
    "# %%bash\n",
    "# cd\n",
    "# cd /bsuhome/stanleyakor/scratch/NOHRSC_SNODAS/download_data/nc\n",
    "# ls S*\n",
    "\n"
   ]
  },
  {
   "cell_type": "code",
   "execution_count": 7,
   "id": "abcefd0c-5915-4586-9047-370f695aecdb",
   "metadata": {},
   "outputs": [],
   "source": [
    "path3 = '/bsuhome/stanleyakor/scratch/NOHRSC_SNODAS/download_data/nc/SNWZ_snodas_2023*'"
   ]
  },
  {
   "cell_type": "code",
   "execution_count": 8,
   "id": "af9c6667-298f-4196-b384-55778018f8e3",
   "metadata": {},
   "outputs": [],
   "source": [
    "ds_snodas=xr.open_mfdataset(path3, combine='nested', concat_dim='time', parallel=True)\n",
    "ds_snodas= ds_snodas.swap_dims({'time': 'XTIME'})"
   ]
  },
  {
   "cell_type": "code",
   "execution_count": 9,
   "id": "f708fbe8-893f-4c8f-b6d5-19ff9a922514",
   "metadata": {},
   "outputs": [],
   "source": [
    "#MEAN ACCUMULATED SNOW HEIGHT AT ON MARCH 1.\n",
    "ds_snodas_snowh = ds_snodas['SNWZ'].mean(dim = 'XTIME')*0.001"
   ]
  },
  {
   "cell_type": "code",
   "execution_count": null,
   "id": "114ea55c-cd22-4a0b-8a27-930e2241e925",
   "metadata": {},
   "outputs": [],
   "source": []
  },
  {
   "cell_type": "code",
   "execution_count": null,
   "id": "e206f1d5-8ec3-4e63-834e-7c20cf9283db",
   "metadata": {},
   "outputs": [],
   "source": []
  },
  {
   "cell_type": "markdown",
   "id": "1fa63dbf-a1ef-41ea-95a7-980c079e55f3",
   "metadata": {},
   "source": [
    "## GET PLOTS"
   ]
  },
  {
   "cell_type": "code",
   "execution_count": null,
   "id": "5cd81285-d286-4027-9305-943fca26f42b",
   "metadata": {},
   "outputs": [],
   "source": []
  },
  {
   "cell_type": "code",
   "execution_count": null,
   "id": "e77fdd60-68d0-4b3e-b3de-4668d07a6548",
   "metadata": {},
   "outputs": [],
   "source": [
    "import matplotlib.pyplot as plt\n",
    "from mpl_toolkits.axes_grid1 import make_axes_locatable\n",
    "\n",
    "file_list = [ds_snodas_snowh, ds_thompson_snowh]\n",
    "title = ['SNODAS', 'Thompson']\n",
    "\n",
    "# Set up figure and subplots\n",
    "fig, axs = plt.subplots(1, 2, figsize=(16, 6))\n",
    "\n",
    "# Loop through the subplots\n",
    "for i, ax in enumerate(axs):\n",
    "    im = ax.imshow(file_list[i], extent=(lon.min(), lon.max(), lat.min(), lat.max()), cmap='RdYlBu_r', origin='lower', alpha=1.0)\n",
    "    ax.set_title(title[i])\n",
    "    ax.xaxis.set_major_locator(plt.MultipleLocator(base=1.0))\n",
    "    ax.yaxis.set_major_locator(plt.MultipleLocator(base=0.4))\n",
    "\n",
    "    # Modify latitude and longitude labels\n",
    "    lon_ticks = ax.get_xticks()\n",
    "    lat_ticks = ax.get_yticks()\n",
    "    lon_labels = [f'{abs(lon):.2f}°{\"W\" if lon < 0 else \"E\"}' for lon in lon_ticks]\n",
    "    lat_labels = [f'{abs(lat):.2f}°{\"S\" if lat < 0 else \"N\"}' for lat in lat_ticks]\n",
    "\n",
    "    ax.set_xticklabels(lon_labels)\n",
    "    ax.set_yticklabels(lat_labels)\n",
    "\n",
    "    if i == 1:\n",
    "        ax.yaxis.set_ticklabels([])  # Hide y-axis labels for the interior left subplot\n",
    "\n",
    "    # Add gridlines\n",
    "    ax.grid(color='gray', linestyle='--', linewidth=0.005)\n",
    "\n",
    "    # Create a colorbar with the same width as the plot\n",
    "    divider = make_axes_locatable(ax)\n",
    "    cax = divider.append_axes('bottom', size='5%', pad=0.4)\n",
    "    plt.colorbar(im, cax=cax, orientation='horizontal', label=\"(m)\")\n",
    "\n",
    "\n",
    "# Add the main title for the entire plot\n",
    "plt.suptitle('Mean Accumulated Snow Height on March 1', fontsize=16)\n",
    "    \n",
    "# Adjust the spacing between the subplots\n",
    "plt.subplots_adjust(wspace=0.1)\n",
    "plt.savefig('snowdas_scheme.pdf', dpi=500)\n",
    "plt.show()\n"
   ]
  },
  {
   "cell_type": "code",
   "execution_count": 31,
   "id": "07c5152f-37f1-44cd-b1d7-f218b98db31b",
   "metadata": {},
   "outputs": [],
   "source": []
  },
  {
   "cell_type": "code",
   "execution_count": null,
   "id": "38bb685c-a556-46aa-a548-8156e974bdd4",
   "metadata": {},
   "outputs": [],
   "source": []
  }
 ],
 "metadata": {
  "kernelspec": {
   "display_name": "Python 3 (ipykernel)",
   "language": "python",
   "name": "python3"
  },
  "language_info": {
   "codemirror_mode": {
    "name": "ipython",
    "version": 3
   },
   "file_extension": ".py",
   "mimetype": "text/x-python",
   "name": "python",
   "nbconvert_exporter": "python",
   "pygments_lexer": "ipython3",
   "version": "3.11.3"
  }
 },
 "nbformat": 4,
 "nbformat_minor": 5
}
